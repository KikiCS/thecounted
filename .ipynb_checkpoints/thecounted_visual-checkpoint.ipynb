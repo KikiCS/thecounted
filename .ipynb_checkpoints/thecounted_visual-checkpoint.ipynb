{
 "cells": [
  {
   "cell_type": "markdown",
   "metadata": {},
   "source": [
    "# Introduction\n",
    "Visualization of statistics that support the claims of Black Lives Matter movement, data from 2015 and 2016.\n",
    "\n",
    "Data source: https://www.theguardian.com/us-news/ng-interactive/2015/jun/01/about-the-counted\n",
    "\n",
    "Idea from BuzzFeed article: https://www.buzzfeednews.com/article/peteraldhous/race-and-police-shootings"
   ]
  },
  {
   "cell_type": "markdown",
   "metadata": {},
   "source": [
    "### Imports\n",
    "Libraries and data"
   ]
  },
  {
   "cell_type": "code",
   "execution_count": 80,
   "metadata": {
    "ExecuteTime": {
     "end_time": "2019-06-16T20:35:50.005676Z",
     "start_time": "2019-06-16T20:35:50.002403Z"
    }
   },
   "outputs": [],
   "source": [
    "import pandas as pd\n",
    "\n",
    "from bokeh.io import output_notebook, show, export_png\n",
    "from bokeh.plotting import figure, output_file\n",
    "from bokeh.models import HoverTool, ColumnDataSource,NumeralTickFormatter\n",
    "from bokeh.palettes import Spectral4, PuBu4\n",
    "from bokeh.transform import dodge\n",
    "from bokeh.layouts import gridplot"
   ]
  },
  {
   "cell_type": "code",
   "execution_count": 2,
   "metadata": {
    "ExecuteTime": {
     "end_time": "2019-06-16T17:57:33.425272Z",
     "start_time": "2019-06-16T17:57:33.401051Z"
    }
   },
   "outputs": [
    {
     "data": {
      "text/html": [
       "<div>\n",
       "<style scoped>\n",
       "    .dataframe tbody tr th:only-of-type {\n",
       "        vertical-align: middle;\n",
       "    }\n",
       "\n",
       "    .dataframe tbody tr th {\n",
       "        vertical-align: top;\n",
       "    }\n",
       "\n",
       "    .dataframe thead th {\n",
       "        text-align: right;\n",
       "    }\n",
       "</style>\n",
       "<table border=\"1\" class=\"dataframe\">\n",
       "  <thead>\n",
       "    <tr style=\"text-align: right;\">\n",
       "      <th></th>\n",
       "      <th>raceethnicity</th>\n",
       "      <th>armed</th>\n",
       "    </tr>\n",
       "  </thead>\n",
       "  <tbody>\n",
       "    <tr>\n",
       "      <th>0</th>\n",
       "      <td>Black</td>\n",
       "      <td>No</td>\n",
       "    </tr>\n",
       "    <tr>\n",
       "      <th>1</th>\n",
       "      <td>White</td>\n",
       "      <td>Firearm</td>\n",
       "    </tr>\n",
       "    <tr>\n",
       "      <th>2</th>\n",
       "      <td>White</td>\n",
       "      <td>No</td>\n",
       "    </tr>\n",
       "    <tr>\n",
       "      <th>3</th>\n",
       "      <td>Hispanic/Latino</td>\n",
       "      <td>No</td>\n",
       "    </tr>\n",
       "    <tr>\n",
       "      <th>4</th>\n",
       "      <td>Asian/Pacific Islander</td>\n",
       "      <td>Firearm</td>\n",
       "    </tr>\n",
       "  </tbody>\n",
       "</table>\n",
       "</div>"
      ],
      "text/plain": [
       "            raceethnicity    armed\n",
       "0                   Black       No\n",
       "1                   White  Firearm\n",
       "2                   White       No\n",
       "3         Hispanic/Latino       No\n",
       "4  Asian/Pacific Islander  Firearm"
      ]
     },
     "execution_count": 2,
     "metadata": {},
     "output_type": "execute_result"
    }
   ],
   "source": [
    "selectcolumns=['raceethnicity','armed']\n",
    "df1 = pd.read_csv('the-counted-2015.csv',usecols=selectcolumns)\n",
    "df1.head()"
   ]
  },
  {
   "cell_type": "code",
   "execution_count": 3,
   "metadata": {
    "ExecuteTime": {
     "end_time": "2019-06-16T17:57:34.289011Z",
     "start_time": "2019-06-16T17:57:34.276524Z"
    }
   },
   "outputs": [
    {
     "data": {
      "text/html": [
       "<div>\n",
       "<style scoped>\n",
       "    .dataframe tbody tr th:only-of-type {\n",
       "        vertical-align: middle;\n",
       "    }\n",
       "\n",
       "    .dataframe tbody tr th {\n",
       "        vertical-align: top;\n",
       "    }\n",
       "\n",
       "    .dataframe thead th {\n",
       "        text-align: right;\n",
       "    }\n",
       "</style>\n",
       "<table border=\"1\" class=\"dataframe\">\n",
       "  <thead>\n",
       "    <tr style=\"text-align: right;\">\n",
       "      <th></th>\n",
       "      <th>raceethnicity</th>\n",
       "      <th>armed</th>\n",
       "    </tr>\n",
       "  </thead>\n",
       "  <tbody>\n",
       "    <tr>\n",
       "      <th>0</th>\n",
       "      <td>Black</td>\n",
       "      <td>Firearm</td>\n",
       "    </tr>\n",
       "    <tr>\n",
       "      <th>1</th>\n",
       "      <td>White</td>\n",
       "      <td>Firearm</td>\n",
       "    </tr>\n",
       "    <tr>\n",
       "      <th>2</th>\n",
       "      <td>White</td>\n",
       "      <td>Knife</td>\n",
       "    </tr>\n",
       "    <tr>\n",
       "      <th>3</th>\n",
       "      <td>White</td>\n",
       "      <td>Knife</td>\n",
       "    </tr>\n",
       "    <tr>\n",
       "      <th>4</th>\n",
       "      <td>White</td>\n",
       "      <td>Firearm</td>\n",
       "    </tr>\n",
       "  </tbody>\n",
       "</table>\n",
       "</div>"
      ],
      "text/plain": [
       "  raceethnicity    armed\n",
       "0         Black  Firearm\n",
       "1         White  Firearm\n",
       "2         White    Knife\n",
       "3         White    Knife\n",
       "4         White  Firearm"
      ]
     },
     "execution_count": 3,
     "metadata": {},
     "output_type": "execute_result"
    }
   ],
   "source": [
    "df2 = pd.read_csv('the-counted-2016.csv',usecols=selectcolumns)\n",
    "df2.head()"
   ]
  },
  {
   "cell_type": "code",
   "execution_count": 4,
   "metadata": {
    "ExecuteTime": {
     "end_time": "2019-06-16T17:57:35.082376Z",
     "start_time": "2019-06-16T17:57:35.077146Z"
    }
   },
   "outputs": [
    {
     "data": {
      "text/plain": [
       "(2239, 2)"
      ]
     },
     "execution_count": 4,
     "metadata": {},
     "output_type": "execute_result"
    }
   ],
   "source": [
    "df=pd.concat([df1,df2])\n",
    "df.shape # df contains \"The Counted\" data from both 2015 and 2016"
   ]
  },
  {
   "cell_type": "markdown",
   "metadata": {},
   "source": [
    "Source for ethnicities percentage in 2015: https://www.statista.com/statistics/270272/percentage-of-us-population-by-ethnicities/\n",
    "\n",
    "Source for population total: https://en.wikipedia.org/wiki/Demography_of_the_United_States#Vital_statistics_from_1935"
   ]
  },
  {
   "cell_type": "code",
   "execution_count": 5,
   "metadata": {
    "ExecuteTime": {
     "end_time": "2019-06-16T17:58:15.750981Z",
     "start_time": "2019-06-16T17:58:15.745642Z"
    }
   },
   "outputs": [
    {
     "name": "stdout",
     "output_type": "stream",
     "text": [
      "{'White': 61.72, 'Latino': 17.66, 'Black': 12.38, 'Others': 8.23}\n",
      "{'White': 198905661, 'Latino': 56913059, 'Black': 39897150, 'Others': 26522903}\n"
     ]
    }
   ],
   "source": [
    "ethndic={\"White\": 61.72,\n",
    "         \"Latino\": 17.66,\n",
    "         \"Black\": 12.38,\n",
    "         \"Others\": (5.28+2.05+0.73+0.17)\n",
    "        }\n",
    "#print(type(ethndic))\n",
    "print(ethndic)\n",
    "population=(321442000 + 323100000)/2 # average between 2015 and 2016 data\n",
    "# estimates by ethnicity\n",
    "ethnestim={\"White\": round((population*ethndic[\"White\"]/100)),\n",
    "         \"Latino\": round((population*ethndic[\"Latino\"]/100)),\n",
    "         \"Black\": round((population*ethndic[\"Black\"]/100)),\n",
    "         \"Others\": round((population*ethndic[\"Others\"]/100))\n",
    "        }\n",
    "print(ethnestim)"
   ]
  },
  {
   "cell_type": "markdown",
   "metadata": {},
   "source": [
    "# Analysis"
   ]
  },
  {
   "cell_type": "code",
   "execution_count": 6,
   "metadata": {
    "ExecuteTime": {
     "end_time": "2019-06-16T17:58:21.243184Z",
     "start_time": "2019-06-16T17:58:21.184933Z"
    }
   },
   "outputs": [
    {
     "data": {
      "text/html": [
       "<div>\n",
       "<style scoped>\n",
       "    .dataframe tbody tr th:only-of-type {\n",
       "        vertical-align: middle;\n",
       "    }\n",
       "\n",
       "    .dataframe tbody tr th {\n",
       "        vertical-align: top;\n",
       "    }\n",
       "\n",
       "    .dataframe thead tr th {\n",
       "        text-align: left;\n",
       "    }\n",
       "\n",
       "    .dataframe thead tr:last-of-type th {\n",
       "        text-align: right;\n",
       "    }\n",
       "</style>\n",
       "<table border=\"1\" class=\"dataframe\">\n",
       "  <thead>\n",
       "    <tr>\n",
       "      <th></th>\n",
       "      <th colspan=\"4\" halign=\"left\">armed</th>\n",
       "    </tr>\n",
       "    <tr>\n",
       "      <th></th>\n",
       "      <th>count</th>\n",
       "      <th>unique</th>\n",
       "      <th>top</th>\n",
       "      <th>freq</th>\n",
       "    </tr>\n",
       "    <tr>\n",
       "      <th>raceethnicity</th>\n",
       "      <th></th>\n",
       "      <th></th>\n",
       "      <th></th>\n",
       "      <th></th>\n",
       "    </tr>\n",
       "  </thead>\n",
       "  <tbody>\n",
       "    <tr>\n",
       "      <th>Arab-American</th>\n",
       "      <td>7</td>\n",
       "      <td>4</td>\n",
       "      <td>No</td>\n",
       "      <td>2</td>\n",
       "    </tr>\n",
       "    <tr>\n",
       "      <th>Asian/Pacific Islander</th>\n",
       "      <td>45</td>\n",
       "      <td>7</td>\n",
       "      <td>Knife</td>\n",
       "      <td>15</td>\n",
       "    </tr>\n",
       "    <tr>\n",
       "      <th>Black</th>\n",
       "      <td>573</td>\n",
       "      <td>8</td>\n",
       "      <td>Firearm</td>\n",
       "      <td>283</td>\n",
       "    </tr>\n",
       "    <tr>\n",
       "      <th>Hispanic/Latino</th>\n",
       "      <td>378</td>\n",
       "      <td>8</td>\n",
       "      <td>Firearm</td>\n",
       "      <td>161</td>\n",
       "    </tr>\n",
       "    <tr>\n",
       "      <th>Native American</th>\n",
       "      <td>37</td>\n",
       "      <td>6</td>\n",
       "      <td>Firearm</td>\n",
       "      <td>17</td>\n",
       "    </tr>\n",
       "    <tr>\n",
       "      <th>Other</th>\n",
       "      <td>1</td>\n",
       "      <td>1</td>\n",
       "      <td>Firearm</td>\n",
       "      <td>1</td>\n",
       "    </tr>\n",
       "    <tr>\n",
       "      <th>Unknown</th>\n",
       "      <td>40</td>\n",
       "      <td>6</td>\n",
       "      <td>Firearm</td>\n",
       "      <td>18</td>\n",
       "    </tr>\n",
       "    <tr>\n",
       "      <th>White</th>\n",
       "      <td>1158</td>\n",
       "      <td>8</td>\n",
       "      <td>Firearm</td>\n",
       "      <td>564</td>\n",
       "    </tr>\n",
       "  </tbody>\n",
       "</table>\n",
       "</div>"
      ],
      "text/plain": [
       "                       armed                     \n",
       "                       count unique      top freq\n",
       "raceethnicity                                    \n",
       "Arab-American              7      4       No    2\n",
       "Asian/Pacific Islander    45      7    Knife   15\n",
       "Black                    573      8  Firearm  283\n",
       "Hispanic/Latino          378      8  Firearm  161\n",
       "Native American           37      6  Firearm   17\n",
       "Other                      1      1  Firearm    1\n",
       "Unknown                   40      6  Firearm   18\n",
       "White                   1158      8  Firearm  564"
      ]
     },
     "execution_count": 6,
     "metadata": {},
     "output_type": "execute_result"
    }
   ],
   "source": [
    "df.groupby(by='raceethnicity').describe()"
   ]
  },
  {
   "cell_type": "markdown",
   "metadata": {},
   "source": [
    "Check if there are any missing values:"
   ]
  },
  {
   "cell_type": "code",
   "execution_count": 7,
   "metadata": {
    "ExecuteTime": {
     "end_time": "2019-06-16T17:59:04.860256Z",
     "start_time": "2019-06-16T17:59:04.854477Z"
    }
   },
   "outputs": [
    {
     "data": {
      "text/plain": [
       "raceethnicity    0\n",
       "armed            0\n",
       "dtype: int64"
      ]
     },
     "execution_count": 7,
     "metadata": {},
     "output_type": "execute_result"
    }
   ],
   "source": [
    "df.isna().sum()"
   ]
  },
  {
   "cell_type": "code",
   "execution_count": 8,
   "metadata": {
    "ExecuteTime": {
     "end_time": "2019-06-16T18:03:10.243705Z",
     "start_time": "2019-06-16T18:03:10.201042Z"
    }
   },
   "outputs": [],
   "source": [
    "df = df[(df.raceethnicity != 'Arab-American') & (df.raceethnicity != 'Unknown')]\n",
    "# no data available about the percentage of this ethnicity over population, so it is discarded\n",
    "df.replace(to_replace=['Asian/Pacific Islander','Native American','Other'],value='Others',inplace=True)\n",
    "# those categories all fall under Others in the population percentages found online\n",
    "df.replace(to_replace=['Hispanic/Latino'],value='Latino',inplace=True)\n",
    "# this value is renamed for consistency with population ethnicity data"
   ]
  },
  {
   "cell_type": "code",
   "execution_count": 9,
   "metadata": {
    "ExecuteTime": {
     "end_time": "2019-06-16T18:03:14.577538Z",
     "start_time": "2019-06-16T18:03:14.535380Z"
    }
   },
   "outputs": [
    {
     "data": {
      "text/html": [
       "<div>\n",
       "<style scoped>\n",
       "    .dataframe tbody tr th:only-of-type {\n",
       "        vertical-align: middle;\n",
       "    }\n",
       "\n",
       "    .dataframe tbody tr th {\n",
       "        vertical-align: top;\n",
       "    }\n",
       "\n",
       "    .dataframe thead tr th {\n",
       "        text-align: left;\n",
       "    }\n",
       "\n",
       "    .dataframe thead tr:last-of-type th {\n",
       "        text-align: right;\n",
       "    }\n",
       "</style>\n",
       "<table border=\"1\" class=\"dataframe\">\n",
       "  <thead>\n",
       "    <tr>\n",
       "      <th></th>\n",
       "      <th colspan=\"4\" halign=\"left\">armed</th>\n",
       "    </tr>\n",
       "    <tr>\n",
       "      <th></th>\n",
       "      <th>count</th>\n",
       "      <th>unique</th>\n",
       "      <th>top</th>\n",
       "      <th>freq</th>\n",
       "    </tr>\n",
       "    <tr>\n",
       "      <th>raceethnicity</th>\n",
       "      <th></th>\n",
       "      <th></th>\n",
       "      <th></th>\n",
       "      <th></th>\n",
       "    </tr>\n",
       "  </thead>\n",
       "  <tbody>\n",
       "    <tr>\n",
       "      <th>Black</th>\n",
       "      <td>573</td>\n",
       "      <td>8</td>\n",
       "      <td>Firearm</td>\n",
       "      <td>283</td>\n",
       "    </tr>\n",
       "    <tr>\n",
       "      <th>Latino</th>\n",
       "      <td>378</td>\n",
       "      <td>8</td>\n",
       "      <td>Firearm</td>\n",
       "      <td>161</td>\n",
       "    </tr>\n",
       "    <tr>\n",
       "      <th>Others</th>\n",
       "      <td>83</td>\n",
       "      <td>7</td>\n",
       "      <td>Firearm</td>\n",
       "      <td>32</td>\n",
       "    </tr>\n",
       "    <tr>\n",
       "      <th>White</th>\n",
       "      <td>1158</td>\n",
       "      <td>8</td>\n",
       "      <td>Firearm</td>\n",
       "      <td>564</td>\n",
       "    </tr>\n",
       "  </tbody>\n",
       "</table>\n",
       "</div>"
      ],
      "text/plain": [
       "              armed                     \n",
       "              count unique      top freq\n",
       "raceethnicity                           \n",
       "Black           573      8  Firearm  283\n",
       "Latino          378      8  Firearm  161\n",
       "Others           83      7  Firearm   32\n",
       "White          1158      8  Firearm  564"
      ]
     },
     "execution_count": 9,
     "metadata": {},
     "output_type": "execute_result"
    }
   ],
   "source": [
    "df.groupby(by='raceethnicity').describe()"
   ]
  },
  {
   "cell_type": "code",
   "execution_count": 10,
   "metadata": {
    "ExecuteTime": {
     "end_time": "2019-06-16T18:03:47.495013Z",
     "start_time": "2019-06-16T18:03:47.491675Z"
    }
   },
   "outputs": [],
   "source": [
    "def givepercent (dtf,ethnicity):\n",
    "    # Function to compute percentages by ethnicity\n",
    "    return round(((dtf.raceethnicity == ethnicity).sum()/(dtf.shape[0])*100),2)"
   ]
  },
  {
   "cell_type": "code",
   "execution_count": 11,
   "metadata": {
    "ExecuteTime": {
     "end_time": "2019-06-16T18:03:54.511094Z",
     "start_time": "2019-06-16T18:03:54.500044Z"
    }
   },
   "outputs": [
    {
     "name": "stdout",
     "output_type": "stream",
     "text": [
      "{'White': 1158, 'Latino': 378, 'Black': 573, 'Others': 83}\n",
      "{'White': 52.83, 'Latino': 17.24, 'Black': 26.14, 'Others': 3.79}\n"
     ]
    }
   ],
   "source": [
    "killed={\"White\":(df.raceethnicity == 'White').sum(),\n",
    "         \"Latino\": (df.raceethnicity == 'Latino').sum(),\n",
    "         \"Black\": (df.raceethnicity == 'Black').sum(),\n",
    "         \"Others\": (df.raceethnicity == 'Others').sum()\n",
    "        }\n",
    "print(killed)\n",
    "killedperc={\"White\": givepercent(df,'White'), \n",
    "         \"Latino\": givepercent(df,'Latino'),\n",
    "         \"Black\": givepercent(df,'Black'),\n",
    "         \"Others\": givepercent(df,'Others')\n",
    "        }\n",
    "print(killedperc)"
   ]
  },
  {
   "cell_type": "code",
   "execution_count": 12,
   "metadata": {
    "ExecuteTime": {
     "end_time": "2019-06-16T18:04:12.858037Z",
     "start_time": "2019-06-16T18:04:12.794516Z"
    }
   },
   "outputs": [
    {
     "data": {
      "text/html": [
       "<div>\n",
       "<style scoped>\n",
       "    .dataframe tbody tr th:only-of-type {\n",
       "        vertical-align: middle;\n",
       "    }\n",
       "\n",
       "    .dataframe tbody tr th {\n",
       "        vertical-align: top;\n",
       "    }\n",
       "\n",
       "    .dataframe thead tr th {\n",
       "        text-align: left;\n",
       "    }\n",
       "\n",
       "    .dataframe thead tr:last-of-type th {\n",
       "        text-align: right;\n",
       "    }\n",
       "</style>\n",
       "<table border=\"1\" class=\"dataframe\">\n",
       "  <thead>\n",
       "    <tr>\n",
       "      <th></th>\n",
       "      <th colspan=\"4\" halign=\"left\">raceethnicity</th>\n",
       "    </tr>\n",
       "    <tr>\n",
       "      <th></th>\n",
       "      <th>count</th>\n",
       "      <th>unique</th>\n",
       "      <th>top</th>\n",
       "      <th>freq</th>\n",
       "    </tr>\n",
       "    <tr>\n",
       "      <th>armed</th>\n",
       "      <th></th>\n",
       "      <th></th>\n",
       "      <th></th>\n",
       "      <th></th>\n",
       "    </tr>\n",
       "  </thead>\n",
       "  <tbody>\n",
       "    <tr>\n",
       "      <th>Disputed</th>\n",
       "      <td>16</td>\n",
       "      <td>3</td>\n",
       "      <td>Black</td>\n",
       "      <td>12</td>\n",
       "    </tr>\n",
       "    <tr>\n",
       "      <th>Firearm</th>\n",
       "      <td>1040</td>\n",
       "      <td>4</td>\n",
       "      <td>White</td>\n",
       "      <td>564</td>\n",
       "    </tr>\n",
       "    <tr>\n",
       "      <th>Knife</th>\n",
       "      <td>299</td>\n",
       "      <td>4</td>\n",
       "      <td>White</td>\n",
       "      <td>156</td>\n",
       "    </tr>\n",
       "    <tr>\n",
       "      <th>No</th>\n",
       "      <td>400</td>\n",
       "      <td>4</td>\n",
       "      <td>White</td>\n",
       "      <td>201</td>\n",
       "    </tr>\n",
       "    <tr>\n",
       "      <th>Non-lethal firearm</th>\n",
       "      <td>92</td>\n",
       "      <td>4</td>\n",
       "      <td>White</td>\n",
       "      <td>57</td>\n",
       "    </tr>\n",
       "    <tr>\n",
       "      <th>Others</th>\n",
       "      <td>143</td>\n",
       "      <td>4</td>\n",
       "      <td>White</td>\n",
       "      <td>75</td>\n",
       "    </tr>\n",
       "    <tr>\n",
       "      <th>Unknown</th>\n",
       "      <td>123</td>\n",
       "      <td>4</td>\n",
       "      <td>White</td>\n",
       "      <td>65</td>\n",
       "    </tr>\n",
       "    <tr>\n",
       "      <th>Vehicle</th>\n",
       "      <td>79</td>\n",
       "      <td>4</td>\n",
       "      <td>White</td>\n",
       "      <td>37</td>\n",
       "    </tr>\n",
       "  </tbody>\n",
       "</table>\n",
       "</div>"
      ],
      "text/plain": [
       "                   raceethnicity                   \n",
       "                           count unique    top freq\n",
       "armed                                              \n",
       "Disputed                      16      3  Black   12\n",
       "Firearm                     1040      4  White  564\n",
       "Knife                        299      4  White  156\n",
       "No                           400      4  White  201\n",
       "Non-lethal firearm            92      4  White   57\n",
       "Others                       143      4  White   75\n",
       "Unknown                      123      4  White   65\n",
       "Vehicle                       79      4  White   37"
      ]
     },
     "execution_count": 12,
     "metadata": {},
     "output_type": "execute_result"
    }
   ],
   "source": [
    "df.groupby(by='armed').describe()"
   ]
  },
  {
   "cell_type": "markdown",
   "metadata": {},
   "source": [
    "The analysis is limited to the value *No*, but could consider *Disputed* and *Non-lethal firearm*, which constitute other 108 data points."
   ]
  },
  {
   "cell_type": "code",
   "execution_count": 13,
   "metadata": {
    "ExecuteTime": {
     "end_time": "2019-06-16T18:08:38.628119Z",
     "start_time": "2019-06-16T18:08:38.592390Z"
    }
   },
   "outputs": [
    {
     "data": {
      "text/html": [
       "<div>\n",
       "<style scoped>\n",
       "    .dataframe tbody tr th:only-of-type {\n",
       "        vertical-align: middle;\n",
       "    }\n",
       "\n",
       "    .dataframe tbody tr th {\n",
       "        vertical-align: top;\n",
       "    }\n",
       "\n",
       "    .dataframe thead tr th {\n",
       "        text-align: left;\n",
       "    }\n",
       "\n",
       "    .dataframe thead tr:last-of-type th {\n",
       "        text-align: right;\n",
       "    }\n",
       "</style>\n",
       "<table border=\"1\" class=\"dataframe\">\n",
       "  <thead>\n",
       "    <tr>\n",
       "      <th></th>\n",
       "      <th colspan=\"4\" halign=\"left\">armed</th>\n",
       "    </tr>\n",
       "    <tr>\n",
       "      <th></th>\n",
       "      <th>count</th>\n",
       "      <th>unique</th>\n",
       "      <th>top</th>\n",
       "      <th>freq</th>\n",
       "    </tr>\n",
       "    <tr>\n",
       "      <th>raceethnicity</th>\n",
       "      <th></th>\n",
       "      <th></th>\n",
       "      <th></th>\n",
       "      <th></th>\n",
       "    </tr>\n",
       "  </thead>\n",
       "  <tbody>\n",
       "    <tr>\n",
       "      <th>Black</th>\n",
       "      <td>121</td>\n",
       "      <td>1</td>\n",
       "      <td>No</td>\n",
       "      <td>121</td>\n",
       "    </tr>\n",
       "    <tr>\n",
       "      <th>Latino</th>\n",
       "      <td>67</td>\n",
       "      <td>1</td>\n",
       "      <td>No</td>\n",
       "      <td>67</td>\n",
       "    </tr>\n",
       "    <tr>\n",
       "      <th>Others</th>\n",
       "      <td>11</td>\n",
       "      <td>1</td>\n",
       "      <td>No</td>\n",
       "      <td>11</td>\n",
       "    </tr>\n",
       "    <tr>\n",
       "      <th>White</th>\n",
       "      <td>201</td>\n",
       "      <td>1</td>\n",
       "      <td>No</td>\n",
       "      <td>201</td>\n",
       "    </tr>\n",
       "  </tbody>\n",
       "</table>\n",
       "</div>"
      ],
      "text/plain": [
       "              armed                \n",
       "              count unique top freq\n",
       "raceethnicity                      \n",
       "Black           121      1  No  121\n",
       "Latino           67      1  No   67\n",
       "Others           11      1  No   11\n",
       "White           201      1  No  201"
      ]
     },
     "execution_count": 13,
     "metadata": {},
     "output_type": "execute_result"
    }
   ],
   "source": [
    "dfunarmed = df[(df.armed == 'No')]\n",
    "dfunarmed.groupby(by='raceethnicity').describe()"
   ]
  },
  {
   "cell_type": "code",
   "execution_count": 14,
   "metadata": {
    "ExecuteTime": {
     "end_time": "2019-06-16T18:08:54.040483Z",
     "start_time": "2019-06-16T18:08:54.030506Z"
    }
   },
   "outputs": [
    {
     "name": "stdout",
     "output_type": "stream",
     "text": [
      "{'White': 201, 'Latino': 67, 'Black': 121, 'Others': 11}\n",
      "{'White': 50.25, 'Latino': 16.75, 'Black': 30.25, 'Others': 2.75}\n"
     ]
    }
   ],
   "source": [
    "unarmed={\"White\":(dfunarmed.raceethnicity == 'White').sum(),\n",
    "         \"Latino\": (dfunarmed.raceethnicity == 'Latino').sum(),\n",
    "         \"Black\": (dfunarmed.raceethnicity == 'Black').sum(),\n",
    "         \"Others\": (dfunarmed.raceethnicity == 'Others').sum()\n",
    "        }\n",
    "print(unarmed)\n",
    "unarmedperc={\"White\":givepercent(dfunarmed,'White'),\n",
    "         \"Latino\": givepercent(dfunarmed,'Latino'),\n",
    "         \"Black\": givepercent(dfunarmed,'Black'),\n",
    "         \"Others\": givepercent(dfunarmed,'Others')\n",
    "        }\n",
    "print(unarmedperc)"
   ]
  },
  {
   "cell_type": "code",
   "execution_count": 24,
   "metadata": {
    "ExecuteTime": {
     "end_time": "2019-06-16T18:14:16.356962Z",
     "start_time": "2019-06-16T18:14:16.354108Z"
    }
   },
   "outputs": [],
   "source": [
    "def percent1ethn (portion,population,decimals):\n",
    "    # Function to compute the percentage of the portion killed over a given population\n",
    "    return round((portion/population*100),decimals)"
   ]
  },
  {
   "cell_type": "code",
   "execution_count": 25,
   "metadata": {
    "ExecuteTime": {
     "end_time": "2019-06-16T18:14:16.706287Z",
     "start_time": "2019-06-16T18:14:16.699905Z"
    }
   },
   "outputs": [
    {
     "name": "stdout",
     "output_type": "stream",
     "text": [
      "{'White': 0.000582, 'Latino': 0.000664, 'Black': 0.001436, 'Others': 0.000313}\n",
      "{'White': 17.36, 'Latino': 17.72, 'Black': 21.12, 'Others': 13.25}\n"
     ]
    }
   ],
   "source": [
    "killed1ethn={\"White\": percent1ethn(killed['White'],ethnestim['White'],6), \n",
    "         \"Latino\": percent1ethn(killed['Latino'],ethnestim['Latino'],6), \n",
    "         \"Black\": percent1ethn(killed['Black'],ethnestim['Black'],6), \n",
    "         \"Others\": percent1ethn(killed['Others'],ethnestim['Others'],6)\n",
    "        }\n",
    "print(killed1ethn)\n",
    "unarmedoverkilled={\"White\": percent1ethn(unarmed['White'],killed['White'],2), \n",
    "         \"Latino\": percent1ethn(unarmed['Latino'],killed['Latino'],2), \n",
    "         \"Black\": percent1ethn(unarmed['Black'],killed['Black'],2), \n",
    "         \"Others\": percent1ethn(unarmed['Others'],killed['Others'],2)\n",
    "        }\n",
    "print(unarmedoverkilled)"
   ]
  },
  {
   "cell_type": "code",
   "execution_count": 114,
   "metadata": {
    "ExecuteTime": {
     "end_time": "2019-06-16T20:48:02.640448Z",
     "start_time": "2019-06-16T20:48:02.635932Z"
    }
   },
   "outputs": [],
   "source": [
    "ethnicities = list(ethndic.keys())\n",
    "populethn = list(ethndic.values())\n",
    "killed = list(killedperc.values())\n",
    "unarmed = list(unarmedperc.values())\n",
    "\n",
    "data1 = {'ethnicities' : ethnicities,\n",
    "        'populethn'   : populethn,\n",
    "        'killed'   : killed,\n",
    "        'unarmed'   : unarmed}\n",
    "\n",
    "source = ColumnDataSource(data=data1)"
   ]
  },
  {
   "cell_type": "markdown",
   "metadata": {},
   "source": [
    "# Results"
   ]
  },
  {
   "cell_type": "code",
   "execution_count": 115,
   "metadata": {
    "ExecuteTime": {
     "end_time": "2019-06-16T20:48:03.543273Z",
     "start_time": "2019-06-16T20:48:03.511175Z"
    }
   },
   "outputs": [],
   "source": [
    "TOOLS = \"pan,wheel_zoom,box_zoom,reset,save,box_select\"\n",
    "palette=Spectral4\n",
    "titlefontsize='16pt'\n",
    "\n",
    "cplot = figure(title=\"The Counted (data from 2015 and 2016)\", tools=TOOLS,\n",
    "               x_range=ethnicities, y_range=(0, 75))#, sizing_mode='scale_both')\n",
    "\n",
    "cplot.vbar(x=dodge('ethnicities',  0.25, range=cplot.x_range),top='populethn', source=source,\n",
    "           width=0.4,line_width=0 ,line_color=None, legend='Ethnicity % over population',\n",
    "           color=str(Spectral4[0]), name='populethn')\n",
    "\n",
    "cplot.vbar(x=dodge('ethnicities', -0.25, range=cplot.x_range), top='killed', source=source,\n",
    "           width=0.4, line_width=0 ,line_color=None, legend=\"Killed % over total killed\",\n",
    "           color=str(Spectral4[2]), name=\"killed\")\n",
    "\n",
    "cplot.vbar(x=dodge('ethnicities',  0.0, range=cplot.x_range), top='unarmed', source=source,\n",
    "           width=0.4, line_width=0 ,line_color=None, legend=\"Unarmed % over total unarmed\",\n",
    "          color=str(Spectral4[1]), name=\"unarmed\")\n",
    "\n",
    "cplot.add_tools(HoverTool(names=[\"unarmed\"],\n",
    "    tooltips=[\n",
    "    ( 'Population', '@populethn{(00.00)}%' ),\n",
    "    ( 'Killed', '@killed{(00.00)}%' ),\n",
    "    ( 'Unarmed', '@unarmed{(00.00)}%' )], # Fields beginning with @ display values from ColumnDataSource. \n",
    "    mode='vline'))\n",
    "\n",
    "#cplot.x_range.range_padding = 0.1\n",
    "cplot.xgrid.grid_line_color = None\n",
    "\n",
    "cplot.legend.location = \"top_right\"\n",
    "cplot.xaxis.axis_label = \"Ethnicity\"\n",
    "cplot.xaxis.axis_label_text_font_size='18pt'\n",
    "\n",
    "cplot.xaxis.minor_tick_line_color = None\n",
    "cplot.title.text_font_size=titlefontsize\n",
    "cplot.legend.label_text_font_size='16pt'\n",
    "cplot.xaxis.major_label_text_font_size='16pt'\n",
    "cplot.yaxis.major_label_text_font_size='16pt'"
   ]
  },
  {
   "cell_type": "code",
   "execution_count": 116,
   "metadata": {
    "ExecuteTime": {
     "end_time": "2019-06-16T20:48:03.991038Z",
     "start_time": "2019-06-16T20:48:03.987287Z"
    }
   },
   "outputs": [],
   "source": [
    "perckillethn = list(killed1ethn.values())\n",
    "\n",
    "data2 = {'ethnicities' : ethnicities,\n",
    "        'perckillethn'   : perckillethn}\n",
    "\n",
    "source = ColumnDataSource(data=dict(data2, color=PuBu4))"
   ]
  },
  {
   "cell_type": "code",
   "execution_count": 117,
   "metadata": {
    "ExecuteTime": {
     "end_time": "2019-06-16T20:48:04.444328Z",
     "start_time": "2019-06-16T20:48:04.431544Z"
    }
   },
   "outputs": [],
   "source": [
    "plot2 = figure(title=\"Killed % over population with same ethnicity\",\n",
    "               tools=TOOLS, x_range=ethnicities, y_range=(0, max(perckillethn)*1.2))#, sizing_mode='scale_both')\n",
    "\n",
    "plot2.vbar(x=dodge('ethnicities',  0.0, range=cplot.x_range), top='perckillethn', source=source,\n",
    "           width=0.4, line_width=0 ,line_color=None, legend=\"\",\n",
    "          color='color', name=\"perckillethn\")\n",
    "\n",
    "plot2.add_tools(HoverTool(names=[\"perckillethn\"],\n",
    "    tooltips=[\n",
    "    ( 'Killed', '@perckillethn{(0.00000)}%' )],\n",
    "    #( 'Unarmed', '@unarmed{(00.00)}%' )], # Fields beginning with @ display values from ColumnDataSource. \n",
    "    mode='vline'))\n",
    "\n",
    "#plot2.x_range.range_padding = 0.1\n",
    "plot2.xgrid.grid_line_color = None\n",
    "\n",
    "plot2.xaxis.axis_label = \"Ethnicity\"\n",
    "plot2.xaxis.axis_label_text_font_size='18pt'\n",
    "\n",
    "plot2.xaxis.minor_tick_line_color = None\n",
    "plot2.title.text_font_size=titlefontsize\n",
    "plot2.xaxis.major_label_text_font_size='16pt'\n",
    "plot2.yaxis.major_label_text_font_size='16pt'\n",
    "plot2.yaxis[0].formatter = NumeralTickFormatter(format=\"0.0000\")"
   ]
  },
  {
   "cell_type": "code",
   "execution_count": 118,
   "metadata": {
    "ExecuteTime": {
     "end_time": "2019-06-16T20:48:04.867756Z",
     "start_time": "2019-06-16T20:48:04.863865Z"
    }
   },
   "outputs": [],
   "source": [
    "percunarmethn = list(unarmedoverkilled.values())\n",
    "\n",
    "data3 = {'ethnicities' : ethnicities,\n",
    "        'percunarmethn'   : percunarmethn}\n",
    "\n",
    "source = ColumnDataSource(data=dict(data3, color=PuBu4))"
   ]
  },
  {
   "cell_type": "code",
   "execution_count": 119,
   "metadata": {
    "ExecuteTime": {
     "end_time": "2019-06-16T20:48:05.392726Z",
     "start_time": "2019-06-16T20:48:05.379843Z"
    }
   },
   "outputs": [],
   "source": [
    "plot3 = figure(title=\"Unarmed % over killed with same ethnicity\",\n",
    "               tools=TOOLS, x_range=ethnicities, y_range=(0, max(percunarmethn)*1.2))#, sizing_mode='scale_both')\n",
    "\n",
    "plot3.vbar(x=dodge('ethnicities',  0.0, range=cplot.x_range), top='percunarmethn', source=source,\n",
    "           width=0.4, line_width=0 ,line_color=None, legend=\"\",\n",
    "          color='color', name=\"percunarmethn\")\n",
    "\n",
    "plot3.add_tools(HoverTool(names=[\"percunarmethn\"],\n",
    "    tooltips=[\n",
    "    ( 'Unarmed', '@percunarmethn{(00.00)}%' )],\n",
    "    #( 'Unarmed', '@unarmed{(00.00)}%' )], # Fields beginning with @ display values from ColumnDataSource. \n",
    "    mode='vline'))\n",
    "\n",
    "#plot3.x_range.range_padding = 0.1\n",
    "plot3.xgrid.grid_line_color = None\n",
    "\n",
    "plot3.xaxis.axis_label = \"Ethnicity\"\n",
    "plot3.xaxis.axis_label_text_font_size='18pt'\n",
    "\n",
    "plot3.xaxis.minor_tick_line_color = None\n",
    "plot3.title.text_font_size=titlefontsize\n",
    "plot3.xaxis.major_label_text_font_size='16pt'\n",
    "plot3.yaxis.major_label_text_font_size='16pt'"
   ]
  },
  {
   "cell_type": "code",
   "execution_count": 120,
   "metadata": {
    "ExecuteTime": {
     "end_time": "2019-06-16T20:48:06.967544Z",
     "start_time": "2019-06-16T20:48:06.076473Z"
    }
   },
   "outputs": [
    {
     "data": {
      "text/html": [
       "\n",
       "    <div class=\"bk-root\">\n",
       "        <a href=\"https://bokeh.pydata.org\" target=\"_blank\" class=\"bk-logo bk-logo-small bk-logo-notebook\"></a>\n",
       "        <span id=\"14855\">Loading BokehJS ...</span>\n",
       "    </div>"
      ]
     },
     "metadata": {},
     "output_type": "display_data"
    },
    {
     "data": {
      "application/javascript": [
       "\n",
       "(function(root) {\n",
       "  function now() {\n",
       "    return new Date();\n",
       "  }\n",
       "\n",
       "  var force = true;\n",
       "\n",
       "  if (typeof (root._bokeh_onload_callbacks) === \"undefined\" || force === true) {\n",
       "    root._bokeh_onload_callbacks = [];\n",
       "    root._bokeh_is_loading = undefined;\n",
       "  }\n",
       "\n",
       "  var JS_MIME_TYPE = 'application/javascript';\n",
       "  var HTML_MIME_TYPE = 'text/html';\n",
       "  var EXEC_MIME_TYPE = 'application/vnd.bokehjs_exec.v0+json';\n",
       "  var CLASS_NAME = 'output_bokeh rendered_html';\n",
       "\n",
       "  /**\n",
       "   * Render data to the DOM node\n",
       "   */\n",
       "  function render(props, node) {\n",
       "    var script = document.createElement(\"script\");\n",
       "    node.appendChild(script);\n",
       "  }\n",
       "\n",
       "  /**\n",
       "   * Handle when an output is cleared or removed\n",
       "   */\n",
       "  function handleClearOutput(event, handle) {\n",
       "    var cell = handle.cell;\n",
       "\n",
       "    var id = cell.output_area._bokeh_element_id;\n",
       "    var server_id = cell.output_area._bokeh_server_id;\n",
       "    // Clean up Bokeh references\n",
       "    if (id != null && id in Bokeh.index) {\n",
       "      Bokeh.index[id].model.document.clear();\n",
       "      delete Bokeh.index[id];\n",
       "    }\n",
       "\n",
       "    if (server_id !== undefined) {\n",
       "      // Clean up Bokeh references\n",
       "      var cmd = \"from bokeh.io.state import curstate; print(curstate().uuid_to_server['\" + server_id + \"'].get_sessions()[0].document.roots[0]._id)\";\n",
       "      cell.notebook.kernel.execute(cmd, {\n",
       "        iopub: {\n",
       "          output: function(msg) {\n",
       "            var id = msg.content.text.trim();\n",
       "            if (id in Bokeh.index) {\n",
       "              Bokeh.index[id].model.document.clear();\n",
       "              delete Bokeh.index[id];\n",
       "            }\n",
       "          }\n",
       "        }\n",
       "      });\n",
       "      // Destroy server and session\n",
       "      var cmd = \"import bokeh.io.notebook as ion; ion.destroy_server('\" + server_id + \"')\";\n",
       "      cell.notebook.kernel.execute(cmd);\n",
       "    }\n",
       "  }\n",
       "\n",
       "  /**\n",
       "   * Handle when a new output is added\n",
       "   */\n",
       "  function handleAddOutput(event, handle) {\n",
       "    var output_area = handle.output_area;\n",
       "    var output = handle.output;\n",
       "\n",
       "    // limit handleAddOutput to display_data with EXEC_MIME_TYPE content only\n",
       "    if ((output.output_type != \"display_data\") || (!output.data.hasOwnProperty(EXEC_MIME_TYPE))) {\n",
       "      return\n",
       "    }\n",
       "\n",
       "    var toinsert = output_area.element.find(\".\" + CLASS_NAME.split(' ')[0]);\n",
       "\n",
       "    if (output.metadata[EXEC_MIME_TYPE][\"id\"] !== undefined) {\n",
       "      toinsert[toinsert.length - 1].firstChild.textContent = output.data[JS_MIME_TYPE];\n",
       "      // store reference to embed id on output_area\n",
       "      output_area._bokeh_element_id = output.metadata[EXEC_MIME_TYPE][\"id\"];\n",
       "    }\n",
       "    if (output.metadata[EXEC_MIME_TYPE][\"server_id\"] !== undefined) {\n",
       "      var bk_div = document.createElement(\"div\");\n",
       "      bk_div.innerHTML = output.data[HTML_MIME_TYPE];\n",
       "      var script_attrs = bk_div.children[0].attributes;\n",
       "      for (var i = 0; i < script_attrs.length; i++) {\n",
       "        toinsert[toinsert.length - 1].firstChild.setAttribute(script_attrs[i].name, script_attrs[i].value);\n",
       "      }\n",
       "      // store reference to server id on output_area\n",
       "      output_area._bokeh_server_id = output.metadata[EXEC_MIME_TYPE][\"server_id\"];\n",
       "    }\n",
       "  }\n",
       "\n",
       "  function register_renderer(events, OutputArea) {\n",
       "\n",
       "    function append_mime(data, metadata, element) {\n",
       "      // create a DOM node to render to\n",
       "      var toinsert = this.create_output_subarea(\n",
       "        metadata,\n",
       "        CLASS_NAME,\n",
       "        EXEC_MIME_TYPE\n",
       "      );\n",
       "      this.keyboard_manager.register_events(toinsert);\n",
       "      // Render to node\n",
       "      var props = {data: data, metadata: metadata[EXEC_MIME_TYPE]};\n",
       "      render(props, toinsert[toinsert.length - 1]);\n",
       "      element.append(toinsert);\n",
       "      return toinsert\n",
       "    }\n",
       "\n",
       "    /* Handle when an output is cleared or removed */\n",
       "    events.on('clear_output.CodeCell', handleClearOutput);\n",
       "    events.on('delete.Cell', handleClearOutput);\n",
       "\n",
       "    /* Handle when a new output is added */\n",
       "    events.on('output_added.OutputArea', handleAddOutput);\n",
       "\n",
       "    /**\n",
       "     * Register the mime type and append_mime function with output_area\n",
       "     */\n",
       "    OutputArea.prototype.register_mime_type(EXEC_MIME_TYPE, append_mime, {\n",
       "      /* Is output safe? */\n",
       "      safe: true,\n",
       "      /* Index of renderer in `output_area.display_order` */\n",
       "      index: 0\n",
       "    });\n",
       "  }\n",
       "\n",
       "  // register the mime type if in Jupyter Notebook environment and previously unregistered\n",
       "  if (root.Jupyter !== undefined) {\n",
       "    var events = require('base/js/events');\n",
       "    var OutputArea = require('notebook/js/outputarea').OutputArea;\n",
       "\n",
       "    if (OutputArea.prototype.mime_types().indexOf(EXEC_MIME_TYPE) == -1) {\n",
       "      register_renderer(events, OutputArea);\n",
       "    }\n",
       "  }\n",
       "\n",
       "  \n",
       "  if (typeof (root._bokeh_timeout) === \"undefined\" || force === true) {\n",
       "    root._bokeh_timeout = Date.now() + 5000;\n",
       "    root._bokeh_failed_load = false;\n",
       "  }\n",
       "\n",
       "  var NB_LOAD_WARNING = {'data': {'text/html':\n",
       "     \"<div style='background-color: #fdd'>\\n\"+\n",
       "     \"<p>\\n\"+\n",
       "     \"BokehJS does not appear to have successfully loaded. If loading BokehJS from CDN, this \\n\"+\n",
       "     \"may be due to a slow or bad network connection. Possible fixes:\\n\"+\n",
       "     \"</p>\\n\"+\n",
       "     \"<ul>\\n\"+\n",
       "     \"<li>re-rerun `output_notebook()` to attempt to load from CDN again, or</li>\\n\"+\n",
       "     \"<li>use INLINE resources instead, as so:</li>\\n\"+\n",
       "     \"</ul>\\n\"+\n",
       "     \"<code>\\n\"+\n",
       "     \"from bokeh.resources import INLINE\\n\"+\n",
       "     \"output_notebook(resources=INLINE)\\n\"+\n",
       "     \"</code>\\n\"+\n",
       "     \"</div>\"}};\n",
       "\n",
       "  function display_loaded() {\n",
       "    var el = document.getElementById(\"14855\");\n",
       "    if (el != null) {\n",
       "      el.textContent = \"BokehJS is loading...\";\n",
       "    }\n",
       "    if (root.Bokeh !== undefined) {\n",
       "      if (el != null) {\n",
       "        el.textContent = \"BokehJS \" + root.Bokeh.version + \" successfully loaded.\";\n",
       "      }\n",
       "    } else if (Date.now() < root._bokeh_timeout) {\n",
       "      setTimeout(display_loaded, 100)\n",
       "    }\n",
       "  }\n",
       "\n",
       "\n",
       "  function run_callbacks() {\n",
       "    try {\n",
       "      root._bokeh_onload_callbacks.forEach(function(callback) { callback() });\n",
       "    }\n",
       "    finally {\n",
       "      delete root._bokeh_onload_callbacks\n",
       "    }\n",
       "    console.info(\"Bokeh: all callbacks have finished\");\n",
       "  }\n",
       "\n",
       "  function load_libs(js_urls, callback) {\n",
       "    root._bokeh_onload_callbacks.push(callback);\n",
       "    if (root._bokeh_is_loading > 0) {\n",
       "      console.log(\"Bokeh: BokehJS is being loaded, scheduling callback at\", now());\n",
       "      return null;\n",
       "    }\n",
       "    if (js_urls == null || js_urls.length === 0) {\n",
       "      run_callbacks();\n",
       "      return null;\n",
       "    }\n",
       "    console.log(\"Bokeh: BokehJS not loaded, scheduling load and callback at\", now());\n",
       "    root._bokeh_is_loading = js_urls.length;\n",
       "    for (var i = 0; i < js_urls.length; i++) {\n",
       "      var url = js_urls[i];\n",
       "      var s = document.createElement('script');\n",
       "      s.src = url;\n",
       "      s.async = false;\n",
       "      s.onreadystatechange = s.onload = function() {\n",
       "        root._bokeh_is_loading--;\n",
       "        if (root._bokeh_is_loading === 0) {\n",
       "          console.log(\"Bokeh: all BokehJS libraries loaded\");\n",
       "          run_callbacks()\n",
       "        }\n",
       "      };\n",
       "      s.onerror = function() {\n",
       "        console.warn(\"failed to load library \" + url);\n",
       "      };\n",
       "      console.log(\"Bokeh: injecting script tag for BokehJS library: \", url);\n",
       "      document.getElementsByTagName(\"head\")[0].appendChild(s);\n",
       "    }\n",
       "  };var element = document.getElementById(\"14855\");\n",
       "  if (element == null) {\n",
       "    console.log(\"Bokeh: ERROR: autoload.js configured with elementid '14855' but no matching script tag was found. \")\n",
       "    return false;\n",
       "  }\n",
       "\n",
       "  var js_urls = [\"https://cdn.pydata.org/bokeh/release/bokeh-1.0.4.min.js\", \"https://cdn.pydata.org/bokeh/release/bokeh-widgets-1.0.4.min.js\", \"https://cdn.pydata.org/bokeh/release/bokeh-tables-1.0.4.min.js\", \"https://cdn.pydata.org/bokeh/release/bokeh-gl-1.0.4.min.js\"];\n",
       "\n",
       "  var inline_js = [\n",
       "    function(Bokeh) {\n",
       "      Bokeh.set_log_level(\"info\");\n",
       "    },\n",
       "    \n",
       "    function(Bokeh) {\n",
       "      \n",
       "    },\n",
       "    function(Bokeh) {\n",
       "      console.log(\"Bokeh: injecting CSS: https://cdn.pydata.org/bokeh/release/bokeh-1.0.4.min.css\");\n",
       "      Bokeh.embed.inject_css(\"https://cdn.pydata.org/bokeh/release/bokeh-1.0.4.min.css\");\n",
       "      console.log(\"Bokeh: injecting CSS: https://cdn.pydata.org/bokeh/release/bokeh-widgets-1.0.4.min.css\");\n",
       "      Bokeh.embed.inject_css(\"https://cdn.pydata.org/bokeh/release/bokeh-widgets-1.0.4.min.css\");\n",
       "      console.log(\"Bokeh: injecting CSS: https://cdn.pydata.org/bokeh/release/bokeh-tables-1.0.4.min.css\");\n",
       "      Bokeh.embed.inject_css(\"https://cdn.pydata.org/bokeh/release/bokeh-tables-1.0.4.min.css\");\n",
       "    }\n",
       "  ];\n",
       "\n",
       "  function run_inline_js() {\n",
       "    \n",
       "    if ((root.Bokeh !== undefined) || (force === true)) {\n",
       "      for (var i = 0; i < inline_js.length; i++) {\n",
       "        inline_js[i].call(root, root.Bokeh);\n",
       "      }if (force === true) {\n",
       "        display_loaded();\n",
       "      }} else if (Date.now() < root._bokeh_timeout) {\n",
       "      setTimeout(run_inline_js, 100);\n",
       "    } else if (!root._bokeh_failed_load) {\n",
       "      console.log(\"Bokeh: BokehJS failed to load within specified timeout.\");\n",
       "      root._bokeh_failed_load = true;\n",
       "    } else if (force !== true) {\n",
       "      var cell = $(document.getElementById(\"14855\")).parents('.cell').data().cell;\n",
       "      cell.output_area.append_execute_result(NB_LOAD_WARNING)\n",
       "    }\n",
       "\n",
       "  }\n",
       "\n",
       "  if (root._bokeh_is_loading === 0) {\n",
       "    console.log(\"Bokeh: BokehJS loaded, going straight to plotting\");\n",
       "    run_inline_js();\n",
       "  } else {\n",
       "    load_libs(js_urls, function() {\n",
       "      console.log(\"Bokeh: BokehJS plotting callback run at\", now());\n",
       "      run_inline_js();\n",
       "    });\n",
       "  }\n",
       "}(window));"
      ],
      "application/vnd.bokehjs_load.v0+json": "\n(function(root) {\n  function now() {\n    return new Date();\n  }\n\n  var force = true;\n\n  if (typeof (root._bokeh_onload_callbacks) === \"undefined\" || force === true) {\n    root._bokeh_onload_callbacks = [];\n    root._bokeh_is_loading = undefined;\n  }\n\n  \n\n  \n  if (typeof (root._bokeh_timeout) === \"undefined\" || force === true) {\n    root._bokeh_timeout = Date.now() + 5000;\n    root._bokeh_failed_load = false;\n  }\n\n  var NB_LOAD_WARNING = {'data': {'text/html':\n     \"<div style='background-color: #fdd'>\\n\"+\n     \"<p>\\n\"+\n     \"BokehJS does not appear to have successfully loaded. If loading BokehJS from CDN, this \\n\"+\n     \"may be due to a slow or bad network connection. Possible fixes:\\n\"+\n     \"</p>\\n\"+\n     \"<ul>\\n\"+\n     \"<li>re-rerun `output_notebook()` to attempt to load from CDN again, or</li>\\n\"+\n     \"<li>use INLINE resources instead, as so:</li>\\n\"+\n     \"</ul>\\n\"+\n     \"<code>\\n\"+\n     \"from bokeh.resources import INLINE\\n\"+\n     \"output_notebook(resources=INLINE)\\n\"+\n     \"</code>\\n\"+\n     \"</div>\"}};\n\n  function display_loaded() {\n    var el = document.getElementById(\"14855\");\n    if (el != null) {\n      el.textContent = \"BokehJS is loading...\";\n    }\n    if (root.Bokeh !== undefined) {\n      if (el != null) {\n        el.textContent = \"BokehJS \" + root.Bokeh.version + \" successfully loaded.\";\n      }\n    } else if (Date.now() < root._bokeh_timeout) {\n      setTimeout(display_loaded, 100)\n    }\n  }\n\n\n  function run_callbacks() {\n    try {\n      root._bokeh_onload_callbacks.forEach(function(callback) { callback() });\n    }\n    finally {\n      delete root._bokeh_onload_callbacks\n    }\n    console.info(\"Bokeh: all callbacks have finished\");\n  }\n\n  function load_libs(js_urls, callback) {\n    root._bokeh_onload_callbacks.push(callback);\n    if (root._bokeh_is_loading > 0) {\n      console.log(\"Bokeh: BokehJS is being loaded, scheduling callback at\", now());\n      return null;\n    }\n    if (js_urls == null || js_urls.length === 0) {\n      run_callbacks();\n      return null;\n    }\n    console.log(\"Bokeh: BokehJS not loaded, scheduling load and callback at\", now());\n    root._bokeh_is_loading = js_urls.length;\n    for (var i = 0; i < js_urls.length; i++) {\n      var url = js_urls[i];\n      var s = document.createElement('script');\n      s.src = url;\n      s.async = false;\n      s.onreadystatechange = s.onload = function() {\n        root._bokeh_is_loading--;\n        if (root._bokeh_is_loading === 0) {\n          console.log(\"Bokeh: all BokehJS libraries loaded\");\n          run_callbacks()\n        }\n      };\n      s.onerror = function() {\n        console.warn(\"failed to load library \" + url);\n      };\n      console.log(\"Bokeh: injecting script tag for BokehJS library: \", url);\n      document.getElementsByTagName(\"head\")[0].appendChild(s);\n    }\n  };var element = document.getElementById(\"14855\");\n  if (element == null) {\n    console.log(\"Bokeh: ERROR: autoload.js configured with elementid '14855' but no matching script tag was found. \")\n    return false;\n  }\n\n  var js_urls = [\"https://cdn.pydata.org/bokeh/release/bokeh-1.0.4.min.js\", \"https://cdn.pydata.org/bokeh/release/bokeh-widgets-1.0.4.min.js\", \"https://cdn.pydata.org/bokeh/release/bokeh-tables-1.0.4.min.js\", \"https://cdn.pydata.org/bokeh/release/bokeh-gl-1.0.4.min.js\"];\n\n  var inline_js = [\n    function(Bokeh) {\n      Bokeh.set_log_level(\"info\");\n    },\n    \n    function(Bokeh) {\n      \n    },\n    function(Bokeh) {\n      console.log(\"Bokeh: injecting CSS: https://cdn.pydata.org/bokeh/release/bokeh-1.0.4.min.css\");\n      Bokeh.embed.inject_css(\"https://cdn.pydata.org/bokeh/release/bokeh-1.0.4.min.css\");\n      console.log(\"Bokeh: injecting CSS: https://cdn.pydata.org/bokeh/release/bokeh-widgets-1.0.4.min.css\");\n      Bokeh.embed.inject_css(\"https://cdn.pydata.org/bokeh/release/bokeh-widgets-1.0.4.min.css\");\n      console.log(\"Bokeh: injecting CSS: https://cdn.pydata.org/bokeh/release/bokeh-tables-1.0.4.min.css\");\n      Bokeh.embed.inject_css(\"https://cdn.pydata.org/bokeh/release/bokeh-tables-1.0.4.min.css\");\n    }\n  ];\n\n  function run_inline_js() {\n    \n    if ((root.Bokeh !== undefined) || (force === true)) {\n      for (var i = 0; i < inline_js.length; i++) {\n        inline_js[i].call(root, root.Bokeh);\n      }if (force === true) {\n        display_loaded();\n      }} else if (Date.now() < root._bokeh_timeout) {\n      setTimeout(run_inline_js, 100);\n    } else if (!root._bokeh_failed_load) {\n      console.log(\"Bokeh: BokehJS failed to load within specified timeout.\");\n      root._bokeh_failed_load = true;\n    } else if (force !== true) {\n      var cell = $(document.getElementById(\"14855\")).parents('.cell').data().cell;\n      cell.output_area.append_execute_result(NB_LOAD_WARNING)\n    }\n\n  }\n\n  if (root._bokeh_is_loading === 0) {\n    console.log(\"Bokeh: BokehJS loaded, going straight to plotting\");\n    run_inline_js();\n  } else {\n    load_libs(js_urls, function() {\n      console.log(\"Bokeh: BokehJS plotting callback run at\", now());\n      run_inline_js();\n    });\n  }\n}(window));"
     },
     "metadata": {},
     "output_type": "display_data"
    },
    {
     "data": {
      "text/html": [
       "\n",
       "\n",
       "\n",
       "\n",
       "\n",
       "\n",
       "  <div class=\"bk-root\" id=\"6d0283e3-b691-4909-ad2a-2d9f159a6b38\" data-root-id=\"14889\"></div>\n"
      ]
     },
     "metadata": {},
     "output_type": "display_data"
    },
    {
     "data": {
      "application/javascript": [
       "(function(root) {\n",
       "  function embed_document(root) {\n",
       "    \n",
       "  var docs_json = {\"fe543e63-337b-43fe-9fae-735258b93bdd\":{\"roots\":{\"references\":[{\"attributes\":{\"children\":[{\"id\":\"14888\",\"type\":\"ToolbarBox\"},{\"id\":\"14886\",\"type\":\"Column\"}],\"sizing_mode\":\"stretch_both\"},\"id\":\"14889\",\"type\":\"Column\"},{\"attributes\":{\"bottom_units\":\"screen\",\"fill_alpha\":{\"value\":0.5},\"fill_color\":{\"value\":\"lightgrey\"},\"left_units\":\"screen\",\"level\":\"overlay\",\"line_alpha\":{\"value\":1.0},\"line_color\":{\"value\":\"black\"},\"line_dash\":[4,4],\"line_width\":{\"value\":2},\"plot\":null,\"render_mode\":\"css\",\"right_units\":\"screen\",\"top_units\":\"screen\"},\"id\":\"14761\",\"type\":\"BoxAnnotation\"},{\"attributes\":{\"children\":[{\"id\":\"14594\",\"subtype\":\"Figure\",\"type\":\"Plot\"},{\"id\":\"14681\",\"subtype\":\"Figure\",\"type\":\"Plot\"},{\"id\":\"14729\",\"subtype\":\"Figure\",\"type\":\"Plot\"}],\"sizing_mode\":\"stretch_both\"},\"id\":\"14885\",\"type\":\"Row\"},{\"attributes\":{\"label\":{\"value\":\"Ethnicity % over population\"},\"renderers\":[{\"id\":\"14634\",\"type\":\"GlyphRenderer\"}]},\"id\":\"14644\",\"type\":\"LegendItem\"},{\"attributes\":{\"fill_alpha\":{\"value\":0.1},\"fill_color\":{\"value\":\"#1f77b4\"},\"line_alpha\":{\"value\":0.1},\"line_color\":{\"value\":\"#1f77b4\"},\"line_width\":{\"value\":0},\"top\":{\"field\":\"percunarmethn\"},\"width\":{\"value\":0.4},\"x\":{\"field\":\"ethnicities\",\"transform\":{\"id\":\"14765\",\"type\":\"Dodge\"}}},\"id\":\"14768\",\"type\":\"VBar\"},{\"attributes\":{\"overlay\":{\"id\":\"14621\",\"type\":\"BoxAnnotation\"}},\"id\":\"14615\",\"type\":\"BoxZoomTool\"},{\"attributes\":{\"data_source\":{\"id\":\"14727\",\"type\":\"ColumnDataSource\"},\"glyph\":{\"id\":\"14767\",\"type\":\"VBar\"},\"hover_glyph\":null,\"muted_glyph\":null,\"name\":\"percunarmethn\",\"nonselection_glyph\":{\"id\":\"14768\",\"type\":\"VBar\"},\"selection_glyph\":null,\"view\":{\"id\":\"14770\",\"type\":\"CDSView\"}},\"id\":\"14769\",\"type\":\"GlyphRenderer\"},{\"attributes\":{\"dimension\":1,\"plot\":{\"id\":\"14681\",\"subtype\":\"Figure\",\"type\":\"Plot\"},\"ticker\":{\"id\":\"14696\",\"type\":\"BasicTicker\"}},\"id\":\"14699\",\"type\":\"Grid\"},{\"attributes\":{\"source\":{\"id\":\"14727\",\"type\":\"ColumnDataSource\"}},\"id\":\"14770\",\"type\":\"CDSView\"},{\"attributes\":{\"bottom_units\":\"screen\",\"fill_alpha\":{\"value\":0.5},\"fill_color\":{\"value\":\"lightgrey\"},\"left_units\":\"screen\",\"level\":\"overlay\",\"line_alpha\":{\"value\":1.0},\"line_color\":{\"value\":\"black\"},\"line_dash\":[4,4],\"line_width\":{\"value\":2},\"plot\":null,\"render_mode\":\"css\",\"right_units\":\"screen\",\"top_units\":\"screen\"},\"id\":\"14708\",\"type\":\"BoxAnnotation\"},{\"attributes\":{},\"id\":\"14614\",\"type\":\"WheelZoomTool\"},{\"attributes\":{},\"id\":\"14703\",\"type\":\"ResetTool\"},{\"attributes\":{},\"id\":\"14744\",\"type\":\"BasicTicker\"},{\"attributes\":{\"overlay\":{\"id\":\"14708\",\"type\":\"BoxAnnotation\"}},\"id\":\"14702\",\"type\":\"BoxZoomTool\"},{\"attributes\":{\"formatter\":{\"id\":\"14725\",\"type\":\"NumeralTickFormatter\"},\"major_label_text_font_size\":{\"value\":\"16pt\"},\"plot\":{\"id\":\"14681\",\"subtype\":\"Figure\",\"type\":\"Plot\"},\"ticker\":{\"id\":\"14696\",\"type\":\"BasicTicker\"}},\"id\":\"14695\",\"type\":\"LinearAxis\"},{\"attributes\":{},\"id\":\"14881\",\"type\":\"Selection\"},{\"attributes\":{},\"id\":\"14696\",\"type\":\"BasicTicker\"},{\"attributes\":{},\"id\":\"14701\",\"type\":\"WheelZoomTool\"},{\"attributes\":{\"items\":[{\"id\":\"14644\",\"type\":\"LegendItem\"},{\"id\":\"14660\",\"type\":\"LegendItem\"},{\"id\":\"14676\",\"type\":\"LegendItem\"}],\"label_text_font_size\":{\"value\":\"16pt\"},\"plot\":{\"id\":\"14594\",\"subtype\":\"Figure\",\"type\":\"Plot\"}},\"id\":\"14643\",\"type\":\"Legend\"},{\"attributes\":{\"callback\":null,\"overlay\":{\"id\":\"14713\",\"type\":\"BoxAnnotation\"}},\"id\":\"14705\",\"type\":\"BoxSelectTool\"},{\"attributes\":{\"below\":[{\"id\":\"14604\",\"type\":\"CategoricalAxis\"}],\"left\":[{\"id\":\"14608\",\"type\":\"LinearAxis\"}],\"renderers\":[{\"id\":\"14604\",\"type\":\"CategoricalAxis\"},{\"id\":\"14607\",\"type\":\"Grid\"},{\"id\":\"14608\",\"type\":\"LinearAxis\"},{\"id\":\"14612\",\"type\":\"Grid\"},{\"id\":\"14621\",\"type\":\"BoxAnnotation\"},{\"id\":\"14626\",\"type\":\"BoxAnnotation\"},{\"id\":\"14643\",\"type\":\"Legend\"},{\"id\":\"14634\",\"type\":\"GlyphRenderer\"},{\"id\":\"14649\",\"type\":\"GlyphRenderer\"},{\"id\":\"14665\",\"type\":\"GlyphRenderer\"}],\"sizing_mode\":\"stretch_both\",\"title\":{\"id\":\"14593\",\"type\":\"Title\"},\"toolbar\":{\"id\":\"14619\",\"type\":\"Toolbar\"},\"toolbar_location\":null,\"x_range\":{\"id\":\"14596\",\"type\":\"FactorRange\"},\"x_scale\":{\"id\":\"14600\",\"type\":\"CategoricalScale\"},\"y_range\":{\"id\":\"14598\",\"type\":\"Range1d\"},\"y_scale\":{\"id\":\"14602\",\"type\":\"LinearScale\"}},\"id\":\"14594\",\"subtype\":\"Figure\",\"type\":\"Plot\"},{\"attributes\":{\"callback\":null,\"end\":75},\"id\":\"14598\",\"type\":\"Range1d\"},{\"attributes\":{},\"id\":\"14616\",\"type\":\"ResetTool\"},{\"attributes\":{},\"id\":\"14600\",\"type\":\"CategoricalScale\"},{\"attributes\":{},\"id\":\"14700\",\"type\":\"PanTool\"},{\"attributes\":{\"range\":{\"id\":\"14596\",\"type\":\"FactorRange\"}},\"id\":\"14661\",\"type\":\"Dodge\"},{\"attributes\":{\"fill_color\":{\"value\":\"#fdae61\"},\"line_color\":{\"value\":null},\"line_width\":{\"value\":0},\"top\":{\"field\":\"killed\"},\"width\":{\"value\":0.4},\"x\":{\"field\":\"ethnicities\",\"transform\":{\"id\":\"14645\",\"type\":\"Dodge\"}}},\"id\":\"14647\",\"type\":\"VBar\"},{\"attributes\":{\"range\":{\"id\":\"14596\",\"type\":\"FactorRange\"},\"value\":0.25},\"id\":\"14630\",\"type\":\"Dodge\"},{\"attributes\":{\"toolbar\":{\"id\":\"14887\",\"type\":\"ProxyToolbar\"},\"toolbar_location\":\"above\"},\"id\":\"14888\",\"type\":\"ToolbarBox\"},{\"attributes\":{\"callback\":null,\"mode\":\"vline\",\"names\":[\"perckillethn\"],\"tooltips\":[[\"Killed\",\"@perckillethn{(0.00000)}%\"]]},\"id\":\"14723\",\"type\":\"HoverTool\"},{\"attributes\":{},\"id\":\"14602\",\"type\":\"LinearScale\"},{\"attributes\":{\"formatter\":{\"id\":\"14640\",\"type\":\"BasicTickFormatter\"},\"major_label_text_font_size\":{\"value\":\"16pt\"},\"plot\":{\"id\":\"14594\",\"subtype\":\"Figure\",\"type\":\"Plot\"},\"ticker\":{\"id\":\"14609\",\"type\":\"BasicTicker\"}},\"id\":\"14608\",\"type\":\"LinearAxis\"},{\"attributes\":{},\"id\":\"14871\",\"type\":\"Selection\"},{\"attributes\":{\"plot\":null,\"text\":\"The Counted (data from 2015 and 2016)\",\"text_font_size\":{\"value\":\"16pt\"}},\"id\":\"14593\",\"type\":\"Title\"},{\"attributes\":{},\"id\":\"14613\",\"type\":\"PanTool\"},{\"attributes\":{\"label\":{\"value\":\"Unarmed % over total unarmed\"},\"renderers\":[{\"id\":\"14665\",\"type\":\"GlyphRenderer\"}]},\"id\":\"14676\",\"type\":\"LegendItem\"},{\"attributes\":{\"range\":{\"id\":\"14596\",\"type\":\"FactorRange\"}},\"id\":\"14717\",\"type\":\"Dodge\"},{\"attributes\":{\"source\":{\"id\":\"14592\",\"type\":\"ColumnDataSource\"}},\"id\":\"14666\",\"type\":\"CDSView\"},{\"attributes\":{},\"id\":\"14704\",\"type\":\"SaveTool\"},{\"attributes\":{\"callback\":null,\"data\":{\"color\":[\"#0570b0\",\"#74a9cf\",\"#bdc9e1\",\"#f1eef6\"],\"ethnicities\":[\"White\",\"Latino\",\"Black\",\"Others\"],\"perckillethn\":[0.000582,0.000664,0.001436,0.000313]},\"selected\":{\"id\":\"14871\",\"type\":\"Selection\"},\"selection_policy\":{\"id\":\"14870\",\"type\":\"UnionRenderers\"}},\"id\":\"14679\",\"type\":\"ColumnDataSource\"},{\"attributes\":{\"dimension\":1,\"plot\":{\"id\":\"14594\",\"subtype\":\"Figure\",\"type\":\"Plot\"},\"ticker\":{\"id\":\"14609\",\"type\":\"BasicTicker\"}},\"id\":\"14612\",\"type\":\"Grid\"},{\"attributes\":{\"fill_alpha\":{\"value\":0.1},\"fill_color\":{\"value\":\"#1f77b4\"},\"line_alpha\":{\"value\":0.1},\"line_color\":{\"value\":\"#1f77b4\"},\"line_width\":{\"value\":0},\"top\":{\"field\":\"killed\"},\"width\":{\"value\":0.4},\"x\":{\"field\":\"ethnicities\",\"transform\":{\"id\":\"14645\",\"type\":\"Dodge\"}}},\"id\":\"14648\",\"type\":\"VBar\"},{\"attributes\":{\"data_source\":{\"id\":\"14592\",\"type\":\"ColumnDataSource\"},\"glyph\":{\"id\":\"14647\",\"type\":\"VBar\"},\"hover_glyph\":null,\"muted_glyph\":null,\"name\":\"killed\",\"nonselection_glyph\":{\"id\":\"14648\",\"type\":\"VBar\"},\"selection_glyph\":null,\"view\":{\"id\":\"14650\",\"type\":\"CDSView\"}},\"id\":\"14649\",\"type\":\"GlyphRenderer\"},{\"attributes\":{\"callback\":null,\"factors\":[\"White\",\"Latino\",\"Black\",\"Others\"]},\"id\":\"14596\",\"type\":\"FactorRange\"},{\"attributes\":{\"active_drag\":\"auto\",\"active_inspect\":\"auto\",\"active_multi\":null,\"active_scroll\":\"auto\",\"active_tap\":\"auto\",\"tools\":[{\"id\":\"14700\",\"type\":\"PanTool\"},{\"id\":\"14701\",\"type\":\"WheelZoomTool\"},{\"id\":\"14702\",\"type\":\"BoxZoomTool\"},{\"id\":\"14703\",\"type\":\"ResetTool\"},{\"id\":\"14704\",\"type\":\"SaveTool\"},{\"id\":\"14705\",\"type\":\"BoxSelectTool\"},{\"id\":\"14723\",\"type\":\"HoverTool\"}]},\"id\":\"14706\",\"type\":\"Toolbar\"},{\"attributes\":{\"source\":{\"id\":\"14592\",\"type\":\"ColumnDataSource\"}},\"id\":\"14650\",\"type\":\"CDSView\"},{\"attributes\":{\"range\":{\"id\":\"14596\",\"type\":\"FactorRange\"},\"value\":-0.25},\"id\":\"14645\",\"type\":\"Dodge\"},{\"attributes\":{\"fill_alpha\":{\"value\":0.1},\"fill_color\":{\"value\":\"#1f77b4\"},\"line_alpha\":{\"value\":0.1},\"line_color\":{\"value\":\"#1f77b4\"},\"line_width\":{\"value\":0},\"top\":{\"field\":\"unarmed\"},\"width\":{\"value\":0.4},\"x\":{\"field\":\"ethnicities\",\"transform\":{\"id\":\"14661\",\"type\":\"Dodge\"}}},\"id\":\"14664\",\"type\":\"VBar\"},{\"attributes\":{},\"id\":\"14657\",\"type\":\"Selection\"},{\"attributes\":{},\"id\":\"14640\",\"type\":\"BasicTickFormatter\"},{\"attributes\":{},\"id\":\"14656\",\"type\":\"UnionRenderers\"},{\"attributes\":{},\"id\":\"14870\",\"type\":\"UnionRenderers\"},{\"attributes\":{},\"id\":\"14868\",\"type\":\"CategoricalTickFormatter\"},{\"attributes\":{\"label\":{\"value\":\"Killed % over total killed\"},\"renderers\":[{\"id\":\"14649\",\"type\":\"GlyphRenderer\"}]},\"id\":\"14660\",\"type\":\"LegendItem\"},{\"attributes\":{\"callback\":null,\"mode\":\"vline\",\"names\":[\"unarmed\"],\"tooltips\":[[\"Population\",\"@populethn{(00.00)}%\"],[\"Killed\",\"@killed{(00.00)}%\"],[\"Unarmed\",\"@unarmed{(00.00)}%\"]]},\"id\":\"14677\",\"type\":\"HoverTool\"},{\"attributes\":{\"axis_label\":\"Ethnicity\",\"axis_label_text_font_size\":{\"value\":\"18pt\"},\"formatter\":{\"id\":\"14638\",\"type\":\"CategoricalTickFormatter\"},\"major_label_text_font_size\":{\"value\":\"16pt\"},\"minor_tick_line_color\":{\"value\":null},\"plot\":{\"id\":\"14594\",\"subtype\":\"Figure\",\"type\":\"Plot\"},\"ticker\":{\"id\":\"14605\",\"type\":\"CategoricalTicker\"}},\"id\":\"14604\",\"type\":\"CategoricalAxis\"},{\"attributes\":{},\"id\":\"14609\",\"type\":\"BasicTicker\"},{\"attributes\":{},\"id\":\"14877\",\"type\":\"CategoricalTickFormatter\"},{\"attributes\":{},\"id\":\"14617\",\"type\":\"SaveTool\"},{\"attributes\":{\"fill_color\":{\"value\":\"#abdda4\"},\"line_color\":{\"value\":null},\"line_width\":{\"value\":0},\"top\":{\"field\":\"unarmed\"},\"width\":{\"value\":0.4},\"x\":{\"field\":\"ethnicities\",\"transform\":{\"id\":\"14661\",\"type\":\"Dodge\"}}},\"id\":\"14663\",\"type\":\"VBar\"},{\"attributes\":{\"children\":[{\"id\":\"14885\",\"type\":\"Row\"}],\"sizing_mode\":\"stretch_both\"},\"id\":\"14886\",\"type\":\"Column\"},{\"attributes\":{\"callback\":null,\"data\":{\"ethnicities\":[\"White\",\"Latino\",\"Black\",\"Others\"],\"killed\":[52.83,17.24,26.14,3.79],\"populethn\":[61.72,17.66,12.38,8.23],\"unarmed\":[50.25,16.75,30.25,2.75]},\"selected\":{\"id\":\"14657\",\"type\":\"Selection\"},\"selection_policy\":{\"id\":\"14656\",\"type\":\"UnionRenderers\"}},\"id\":\"14592\",\"type\":\"ColumnDataSource\"},{\"attributes\":{\"data_source\":{\"id\":\"14592\",\"type\":\"ColumnDataSource\"},\"glyph\":{\"id\":\"14663\",\"type\":\"VBar\"},\"hover_glyph\":null,\"muted_glyph\":null,\"name\":\"unarmed\",\"nonselection_glyph\":{\"id\":\"14664\",\"type\":\"VBar\"},\"selection_glyph\":null,\"view\":{\"id\":\"14666\",\"type\":\"CDSView\"}},\"id\":\"14665\",\"type\":\"GlyphRenderer\"},{\"attributes\":{\"fill_color\":{\"field\":\"color\"},\"line_color\":{\"value\":null},\"line_width\":{\"value\":0},\"top\":{\"field\":\"percunarmethn\"},\"width\":{\"value\":0.4},\"x\":{\"field\":\"ethnicities\",\"transform\":{\"id\":\"14765\",\"type\":\"Dodge\"}}},\"id\":\"14767\",\"type\":\"VBar\"},{\"attributes\":{\"plot\":null,\"text\":\"Unarmed % over killed with same ethnicity\",\"text_font_size\":{\"value\":\"16pt\"}},\"id\":\"14728\",\"type\":\"Title\"},{\"attributes\":{\"callback\":null,\"factors\":[\"White\",\"Latino\",\"Black\",\"Others\"]},\"id\":\"14683\",\"type\":\"FactorRange\"},{\"attributes\":{},\"id\":\"14737\",\"type\":\"LinearScale\"},{\"attributes\":{\"below\":[{\"id\":\"14691\",\"type\":\"CategoricalAxis\"}],\"left\":[{\"id\":\"14695\",\"type\":\"LinearAxis\"}],\"renderers\":[{\"id\":\"14691\",\"type\":\"CategoricalAxis\"},{\"id\":\"14694\",\"type\":\"Grid\"},{\"id\":\"14695\",\"type\":\"LinearAxis\"},{\"id\":\"14699\",\"type\":\"Grid\"},{\"id\":\"14708\",\"type\":\"BoxAnnotation\"},{\"id\":\"14713\",\"type\":\"BoxAnnotation\"},{\"id\":\"14721\",\"type\":\"GlyphRenderer\"}],\"sizing_mode\":\"stretch_both\",\"title\":{\"id\":\"14680\",\"type\":\"Title\"},\"toolbar\":{\"id\":\"14706\",\"type\":\"Toolbar\"},\"toolbar_location\":null,\"x_range\":{\"id\":\"14683\",\"type\":\"FactorRange\"},\"x_scale\":{\"id\":\"14687\",\"type\":\"CategoricalScale\"},\"y_range\":{\"id\":\"14685\",\"type\":\"Range1d\"},\"y_scale\":{\"id\":\"14689\",\"type\":\"LinearScale\"}},\"id\":\"14681\",\"subtype\":\"Figure\",\"type\":\"Plot\"},{\"attributes\":{\"active_drag\":\"auto\",\"active_inspect\":\"auto\",\"active_multi\":null,\"active_scroll\":\"auto\",\"active_tap\":\"auto\",\"tools\":[{\"id\":\"14748\",\"type\":\"PanTool\"},{\"id\":\"14749\",\"type\":\"WheelZoomTool\"},{\"id\":\"14750\",\"type\":\"BoxZoomTool\"},{\"id\":\"14751\",\"type\":\"ResetTool\"},{\"id\":\"14752\",\"type\":\"SaveTool\"},{\"id\":\"14753\",\"type\":\"BoxSelectTool\"},{\"id\":\"14771\",\"type\":\"HoverTool\"}]},\"id\":\"14754\",\"type\":\"Toolbar\"},{\"attributes\":{},\"id\":\"14880\",\"type\":\"UnionRenderers\"},{\"attributes\":{\"bottom_units\":\"screen\",\"fill_alpha\":{\"value\":0.5},\"fill_color\":{\"value\":\"lightgrey\"},\"left_units\":\"screen\",\"level\":\"overlay\",\"line_alpha\":{\"value\":1.0},\"line_color\":{\"value\":\"black\"},\"line_dash\":[4,4],\"line_width\":{\"value\":2},\"plot\":null,\"render_mode\":\"css\",\"right_units\":\"screen\",\"top_units\":\"screen\"},\"id\":\"14621\",\"type\":\"BoxAnnotation\"},{\"attributes\":{},\"id\":\"14605\",\"type\":\"CategoricalTicker\"},{\"attributes\":{},\"id\":\"14689\",\"type\":\"LinearScale\"},{\"attributes\":{},\"id\":\"14748\",\"type\":\"PanTool\"},{\"attributes\":{\"plot\":null,\"text\":\"Killed % over population with same ethnicity\",\"text_font_size\":{\"value\":\"16pt\"}},\"id\":\"14680\",\"type\":\"Title\"},{\"attributes\":{\"callback\":null,\"data\":{\"color\":[\"#0570b0\",\"#74a9cf\",\"#bdc9e1\",\"#f1eef6\"],\"ethnicities\":[\"White\",\"Latino\",\"Black\",\"Others\"],\"percunarmethn\":[17.36,17.72,21.12,13.25]},\"selected\":{\"id\":\"14881\",\"type\":\"Selection\"},\"selection_policy\":{\"id\":\"14880\",\"type\":\"UnionRenderers\"}},\"id\":\"14727\",\"type\":\"ColumnDataSource\"},{\"attributes\":{\"formatter\":{\"id\":\"14879\",\"type\":\"BasicTickFormatter\"},\"major_label_text_font_size\":{\"value\":\"16pt\"},\"plot\":{\"id\":\"14729\",\"subtype\":\"Figure\",\"type\":\"Plot\"},\"ticker\":{\"id\":\"14744\",\"type\":\"BasicTicker\"}},\"id\":\"14743\",\"type\":\"LinearAxis\"},{\"attributes\":{\"callback\":null,\"overlay\":{\"id\":\"14761\",\"type\":\"BoxAnnotation\"}},\"id\":\"14753\",\"type\":\"BoxSelectTool\"},{\"attributes\":{\"callback\":null,\"factors\":[\"White\",\"Latino\",\"Black\",\"Others\"]},\"id\":\"14731\",\"type\":\"FactorRange\"},{\"attributes\":{\"grid_line_color\":{\"value\":null},\"plot\":{\"id\":\"14681\",\"subtype\":\"Figure\",\"type\":\"Plot\"},\"ticker\":{\"id\":\"14692\",\"type\":\"CategoricalTicker\"}},\"id\":\"14694\",\"type\":\"Grid\"},{\"attributes\":{\"callback\":null,\"end\":25.344},\"id\":\"14733\",\"type\":\"Range1d\"},{\"attributes\":{},\"id\":\"14749\",\"type\":\"WheelZoomTool\"},{\"attributes\":{\"active_drag\":\"auto\",\"active_inspect\":\"auto\",\"active_multi\":null,\"active_scroll\":\"auto\",\"active_tap\":\"auto\",\"tools\":[{\"id\":\"14613\",\"type\":\"PanTool\"},{\"id\":\"14614\",\"type\":\"WheelZoomTool\"},{\"id\":\"14615\",\"type\":\"BoxZoomTool\"},{\"id\":\"14616\",\"type\":\"ResetTool\"},{\"id\":\"14617\",\"type\":\"SaveTool\"},{\"id\":\"14618\",\"type\":\"BoxSelectTool\"},{\"id\":\"14677\",\"type\":\"HoverTool\"}]},\"id\":\"14619\",\"type\":\"Toolbar\"},{\"attributes\":{},\"id\":\"14735\",\"type\":\"CategoricalScale\"},{\"attributes\":{\"callback\":null,\"mode\":\"vline\",\"names\":[\"percunarmethn\"],\"tooltips\":[[\"Unarmed\",\"@percunarmethn{(00.00)}%\"]]},\"id\":\"14771\",\"type\":\"HoverTool\"},{\"attributes\":{\"dimension\":1,\"plot\":{\"id\":\"14729\",\"subtype\":\"Figure\",\"type\":\"Plot\"},\"ticker\":{\"id\":\"14744\",\"type\":\"BasicTicker\"}},\"id\":\"14747\",\"type\":\"Grid\"},{\"attributes\":{\"bottom_units\":\"screen\",\"fill_alpha\":{\"value\":0.5},\"fill_color\":{\"value\":\"lightgrey\"},\"left_units\":\"screen\",\"level\":\"overlay\",\"line_alpha\":{\"value\":1.0},\"line_color\":{\"value\":\"black\"},\"line_dash\":[4,4],\"line_width\":{\"value\":2},\"plot\":null,\"render_mode\":\"css\",\"right_units\":\"screen\",\"top_units\":\"screen\"},\"id\":\"14756\",\"type\":\"BoxAnnotation\"},{\"attributes\":{\"data_source\":{\"id\":\"14679\",\"type\":\"ColumnDataSource\"},\"glyph\":{\"id\":\"14719\",\"type\":\"VBar\"},\"hover_glyph\":null,\"muted_glyph\":null,\"name\":\"perckillethn\",\"nonselection_glyph\":{\"id\":\"14720\",\"type\":\"VBar\"},\"selection_glyph\":null,\"view\":{\"id\":\"14722\",\"type\":\"CDSView\"}},\"id\":\"14721\",\"type\":\"GlyphRenderer\"},{\"attributes\":{\"overlay\":{\"id\":\"14756\",\"type\":\"BoxAnnotation\"}},\"id\":\"14750\",\"type\":\"BoxZoomTool\"},{\"attributes\":{\"fill_color\":{\"value\":\"#2b83ba\"},\"line_color\":{\"value\":null},\"line_width\":{\"value\":0},\"top\":{\"field\":\"populethn\"},\"width\":{\"value\":0.4},\"x\":{\"field\":\"ethnicities\",\"transform\":{\"id\":\"14630\",\"type\":\"Dodge\"}}},\"id\":\"14632\",\"type\":\"VBar\"},{\"attributes\":{\"callback\":null,\"overlay\":{\"id\":\"14626\",\"type\":\"BoxAnnotation\"}},\"id\":\"14618\",\"type\":\"BoxSelectTool\"},{\"attributes\":{},\"id\":\"14687\",\"type\":\"CategoricalScale\"},{\"attributes\":{\"grid_line_color\":{\"value\":null},\"plot\":{\"id\":\"14594\",\"subtype\":\"Figure\",\"type\":\"Plot\"},\"ticker\":{\"id\":\"14605\",\"type\":\"CategoricalTicker\"}},\"id\":\"14607\",\"type\":\"Grid\"},{\"attributes\":{\"fill_color\":{\"field\":\"color\"},\"line_color\":{\"value\":null},\"line_width\":{\"value\":0},\"top\":{\"field\":\"perckillethn\"},\"width\":{\"value\":0.4},\"x\":{\"field\":\"ethnicities\",\"transform\":{\"id\":\"14717\",\"type\":\"Dodge\"}}},\"id\":\"14719\",\"type\":\"VBar\"},{\"attributes\":{},\"id\":\"14740\",\"type\":\"CategoricalTicker\"},{\"attributes\":{\"format\":\"0.0000\"},\"id\":\"14725\",\"type\":\"NumeralTickFormatter\"},{\"attributes\":{\"bottom_units\":\"screen\",\"fill_alpha\":{\"value\":0.5},\"fill_color\":{\"value\":\"lightgrey\"},\"left_units\":\"screen\",\"level\":\"overlay\",\"line_alpha\":{\"value\":1.0},\"line_color\":{\"value\":\"black\"},\"line_dash\":[4,4],\"line_width\":{\"value\":2},\"plot\":null,\"render_mode\":\"css\",\"right_units\":\"screen\",\"top_units\":\"screen\"},\"id\":\"14713\",\"type\":\"BoxAnnotation\"},{\"attributes\":{\"range\":{\"id\":\"14596\",\"type\":\"FactorRange\"}},\"id\":\"14765\",\"type\":\"Dodge\"},{\"attributes\":{\"axis_label\":\"Ethnicity\",\"axis_label_text_font_size\":{\"value\":\"18pt\"},\"formatter\":{\"id\":\"14877\",\"type\":\"CategoricalTickFormatter\"},\"major_label_text_font_size\":{\"value\":\"16pt\"},\"minor_tick_line_color\":{\"value\":null},\"plot\":{\"id\":\"14729\",\"subtype\":\"Figure\",\"type\":\"Plot\"},\"ticker\":{\"id\":\"14740\",\"type\":\"CategoricalTicker\"}},\"id\":\"14739\",\"type\":\"CategoricalAxis\"},{\"attributes\":{\"source\":{\"id\":\"14592\",\"type\":\"ColumnDataSource\"}},\"id\":\"14635\",\"type\":\"CDSView\"},{\"attributes\":{},\"id\":\"14751\",\"type\":\"ResetTool\"},{\"attributes\":{\"data_source\":{\"id\":\"14592\",\"type\":\"ColumnDataSource\"},\"glyph\":{\"id\":\"14632\",\"type\":\"VBar\"},\"hover_glyph\":null,\"muted_glyph\":null,\"name\":\"populethn\",\"nonselection_glyph\":{\"id\":\"14633\",\"type\":\"VBar\"},\"selection_glyph\":null,\"view\":{\"id\":\"14635\",\"type\":\"CDSView\"}},\"id\":\"14634\",\"type\":\"GlyphRenderer\"},{\"attributes\":{\"grid_line_color\":{\"value\":null},\"plot\":{\"id\":\"14729\",\"subtype\":\"Figure\",\"type\":\"Plot\"},\"ticker\":{\"id\":\"14740\",\"type\":\"CategoricalTicker\"}},\"id\":\"14742\",\"type\":\"Grid\"},{\"attributes\":{},\"id\":\"14752\",\"type\":\"SaveTool\"},{\"attributes\":{\"fill_alpha\":{\"value\":0.1},\"fill_color\":{\"value\":\"#1f77b4\"},\"line_alpha\":{\"value\":0.1},\"line_color\":{\"value\":\"#1f77b4\"},\"line_width\":{\"value\":0},\"top\":{\"field\":\"perckillethn\"},\"width\":{\"value\":0.4},\"x\":{\"field\":\"ethnicities\",\"transform\":{\"id\":\"14717\",\"type\":\"Dodge\"}}},\"id\":\"14720\",\"type\":\"VBar\"},{\"attributes\":{\"tools\":[{\"id\":\"14613\",\"type\":\"PanTool\"},{\"id\":\"14614\",\"type\":\"WheelZoomTool\"},{\"id\":\"14615\",\"type\":\"BoxZoomTool\"},{\"id\":\"14616\",\"type\":\"ResetTool\"},{\"id\":\"14617\",\"type\":\"SaveTool\"},{\"id\":\"14618\",\"type\":\"BoxSelectTool\"},{\"id\":\"14677\",\"type\":\"HoverTool\"},{\"id\":\"14700\",\"type\":\"PanTool\"},{\"id\":\"14701\",\"type\":\"WheelZoomTool\"},{\"id\":\"14702\",\"type\":\"BoxZoomTool\"},{\"id\":\"14703\",\"type\":\"ResetTool\"},{\"id\":\"14704\",\"type\":\"SaveTool\"},{\"id\":\"14705\",\"type\":\"BoxSelectTool\"},{\"id\":\"14723\",\"type\":\"HoverTool\"},{\"id\":\"14748\",\"type\":\"PanTool\"},{\"id\":\"14749\",\"type\":\"WheelZoomTool\"},{\"id\":\"14750\",\"type\":\"BoxZoomTool\"},{\"id\":\"14751\",\"type\":\"ResetTool\"},{\"id\":\"14752\",\"type\":\"SaveTool\"},{\"id\":\"14753\",\"type\":\"BoxSelectTool\"},{\"id\":\"14771\",\"type\":\"HoverTool\"}]},\"id\":\"14887\",\"type\":\"ProxyToolbar\"},{\"attributes\":{},\"id\":\"14638\",\"type\":\"CategoricalTickFormatter\"},{\"attributes\":{\"callback\":null,\"end\":0.0017232},\"id\":\"14685\",\"type\":\"Range1d\"},{\"attributes\":{\"fill_alpha\":{\"value\":0.1},\"fill_color\":{\"value\":\"#1f77b4\"},\"line_alpha\":{\"value\":0.1},\"line_color\":{\"value\":\"#1f77b4\"},\"line_width\":{\"value\":0},\"top\":{\"field\":\"populethn\"},\"width\":{\"value\":0.4},\"x\":{\"field\":\"ethnicities\",\"transform\":{\"id\":\"14630\",\"type\":\"Dodge\"}}},\"id\":\"14633\",\"type\":\"VBar\"},{\"attributes\":{},\"id\":\"14879\",\"type\":\"BasicTickFormatter\"},{\"attributes\":{\"below\":[{\"id\":\"14739\",\"type\":\"CategoricalAxis\"}],\"left\":[{\"id\":\"14743\",\"type\":\"LinearAxis\"}],\"renderers\":[{\"id\":\"14739\",\"type\":\"CategoricalAxis\"},{\"id\":\"14742\",\"type\":\"Grid\"},{\"id\":\"14743\",\"type\":\"LinearAxis\"},{\"id\":\"14747\",\"type\":\"Grid\"},{\"id\":\"14756\",\"type\":\"BoxAnnotation\"},{\"id\":\"14761\",\"type\":\"BoxAnnotation\"},{\"id\":\"14769\",\"type\":\"GlyphRenderer\"}],\"sizing_mode\":\"stretch_both\",\"title\":{\"id\":\"14728\",\"type\":\"Title\"},\"toolbar\":{\"id\":\"14754\",\"type\":\"Toolbar\"},\"toolbar_location\":null,\"x_range\":{\"id\":\"14731\",\"type\":\"FactorRange\"},\"x_scale\":{\"id\":\"14735\",\"type\":\"CategoricalScale\"},\"y_range\":{\"id\":\"14733\",\"type\":\"Range1d\"},\"y_scale\":{\"id\":\"14737\",\"type\":\"LinearScale\"}},\"id\":\"14729\",\"subtype\":\"Figure\",\"type\":\"Plot\"},{\"attributes\":{},\"id\":\"14692\",\"type\":\"CategoricalTicker\"},{\"attributes\":{\"axis_label\":\"Ethnicity\",\"axis_label_text_font_size\":{\"value\":\"18pt\"},\"formatter\":{\"id\":\"14868\",\"type\":\"CategoricalTickFormatter\"},\"major_label_text_font_size\":{\"value\":\"16pt\"},\"minor_tick_line_color\":{\"value\":null},\"plot\":{\"id\":\"14681\",\"subtype\":\"Figure\",\"type\":\"Plot\"},\"ticker\":{\"id\":\"14692\",\"type\":\"CategoricalTicker\"}},\"id\":\"14691\",\"type\":\"CategoricalAxis\"},{\"attributes\":{\"source\":{\"id\":\"14679\",\"type\":\"ColumnDataSource\"}},\"id\":\"14722\",\"type\":\"CDSView\"},{\"attributes\":{\"bottom_units\":\"screen\",\"fill_alpha\":{\"value\":0.5},\"fill_color\":{\"value\":\"lightgrey\"},\"left_units\":\"screen\",\"level\":\"overlay\",\"line_alpha\":{\"value\":1.0},\"line_color\":{\"value\":\"black\"},\"line_dash\":[4,4],\"line_width\":{\"value\":2},\"plot\":null,\"render_mode\":\"css\",\"right_units\":\"screen\",\"top_units\":\"screen\"},\"id\":\"14626\",\"type\":\"BoxAnnotation\"}],\"root_ids\":[\"14889\"]},\"title\":\"Bokeh Application\",\"version\":\"1.0.4\"}};\n",
       "  var render_items = [{\"docid\":\"fe543e63-337b-43fe-9fae-735258b93bdd\",\"roots\":{\"14889\":\"6d0283e3-b691-4909-ad2a-2d9f159a6b38\"}}];\n",
       "  root.Bokeh.embed.embed_items_notebook(docs_json, render_items);\n",
       "\n",
       "  }\n",
       "  if (root.Bokeh !== undefined) {\n",
       "    embed_document(root);\n",
       "  } else {\n",
       "    var attempts = 0;\n",
       "    var timer = setInterval(function(root) {\n",
       "      if (root.Bokeh !== undefined) {\n",
       "        embed_document(root);\n",
       "        clearInterval(timer);\n",
       "      }\n",
       "      attempts++;\n",
       "      if (attempts > 100) {\n",
       "        console.log(\"Bokeh: ERROR: Unable to run BokehJS code because BokehJS library is missing\");\n",
       "        clearInterval(timer);\n",
       "      }\n",
       "    }, 10, root)\n",
       "  }\n",
       "})(window);"
      ],
      "application/vnd.bokehjs_exec.v0+json": ""
     },
     "metadata": {
      "application/vnd.bokehjs_exec.v0+json": {
       "id": "14889"
      }
     },
     "output_type": "display_data"
    }
   ],
   "source": [
    "output_file(\"thecounted.html\", title=\"The Counted Visualization\")\n",
    "\n",
    "export_png(cplot, filename=\"bokeh_thecounted.png\")\n",
    "\n",
    "output_notebook()\n",
    "gplot=gridplot([cplot, plot2, plot3], sizing_mode='stretch_both', ncols=3)#, plot_width=800, plot_height=600)\n",
    "show(gplot)  # open a browser"
   ]
  },
  {
   "cell_type": "markdown",
   "metadata": {
    "ExecuteTime": {
     "end_time": "2019-06-02T10:55:40.612354Z",
     "start_time": "2019-06-02T10:55:40.608088Z"
    }
   },
   "source": [
    "Hover on the bar charts to read the percentage values."
   ]
  },
  {
   "cell_type": "markdown",
   "metadata": {},
   "source": [
    "# Conclusions\n",
    "The plot shows that if the people shot by police were proportional to the population distribution, the orange and green bar charts should have been almost the same height as the blue ones. Although this is true for Latino ethnicity, it is not for the Black one: this is the second most represented among killed and among those killed who were unarmed."
   ]
  }
 ],
 "metadata": {
  "hide_input": false,
  "kernelspec": {
   "display_name": "Python 3",
   "language": "python",
   "name": "python3"
  },
  "language_info": {
   "codemirror_mode": {
    "name": "ipython",
    "version": 3
   },
   "file_extension": ".py",
   "mimetype": "text/x-python",
   "name": "python",
   "nbconvert_exporter": "python",
   "pygments_lexer": "ipython3",
   "version": "3.7.3"
  },
  "toc": {
   "base_numbering": 1,
   "nav_menu": {},
   "number_sections": true,
   "sideBar": true,
   "skip_h1_title": false,
   "title_cell": "Table of Contents",
   "title_sidebar": "Contents",
   "toc_cell": false,
   "toc_position": {},
   "toc_section_display": true,
   "toc_window_display": false
  },
  "varInspector": {
   "cols": {
    "lenName": 16,
    "lenType": 16,
    "lenVar": 40
   },
   "kernels_config": {
    "python": {
     "delete_cmd_postfix": "",
     "delete_cmd_prefix": "del ",
     "library": "var_list.py",
     "varRefreshCmd": "print(var_dic_list())"
    },
    "r": {
     "delete_cmd_postfix": ") ",
     "delete_cmd_prefix": "rm(",
     "library": "var_list.r",
     "varRefreshCmd": "cat(var_dic_list()) "
    }
   },
   "position": {
    "height": "435px",
    "left": "973px",
    "right": "20px",
    "top": "79px",
    "width": "517px"
   },
   "types_to_exclude": [
    "module",
    "function",
    "builtin_function_or_method",
    "instance",
    "_Feature"
   ],
   "window_display": false
  }
 },
 "nbformat": 4,
 "nbformat_minor": 2
}
